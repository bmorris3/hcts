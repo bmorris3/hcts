{
 "cells": [
  {
   "cell_type": "code",
   "execution_count": 4,
   "metadata": {},
   "outputs": [
    {
     "name": "stdout",
     "output_type": "stream",
     "text": [
      "(36, 4, 36, 4)\n"
     ]
    },
    {
     "data": {
      "text/plain": [
       "<matplotlib.image.AxesImage at 0x10eddb400>"
      ]
     },
     "execution_count": 4,
     "metadata": {},
     "output_type": "execute_result"
    },
    {
     "data": {
      "image/png": "[encoded data removed]",
      "text/plain": [
       "<matplotlib.figure.Figure at 0x1047af5c0>"
      ]
     },
     "metadata": {},
     "output_type": "display_data"
    }
   ],
   "source": [
    "%matplotlib inline\n",
    "import matplotlib.pyplot as plt\n",
    "import numpy as np\n",
    "\n",
    "R_planet_pixels_upper = 18\n",
    "R_planet_pixels = 17.2\n",
    "mult_factor = 4\n",
    "mask = np.zeros((2*R_planet_pixels_upper * mult_factor, 2*R_planet_pixels_upper * mult_factor))\n",
    "for i in range(0, 2*R_planet_pixels_upper * mult_factor):\n",
    "    for j in range(0, 2*R_planet_pixels_upper * mult_factor):\n",
    "        x = (i - R_planet_pixels_upper * mult_factor)\n",
    "        y = (j - R_planet_pixels_upper * mult_factor)\n",
    "        r_pixel = x**2 + y**2\n",
    "        if r_pixel < (R_planet_pixels * mult_factor)**2:\n",
    "            mask[i, j] += 1.0\n",
    "\n",
    "def rebin(arr):\n",
    "    new_shape = (2*R_planet_pixels_upper, 2*R_planet_pixels_upper)\n",
    "    shape = (new_shape[0], arr.shape[0] // new_shape[0],\n",
    "             new_shape[1], arr.shape[1] // new_shape[1])\n",
    "    print(arr.reshape(shape).shape)\n",
    "    reshaped = arr.reshape(shape).sum(-1).sum(1)\n",
    "    return reshaped / reshaped.max()\n",
    "\n",
    "plt.imshow(rebin(mask)) "
   ]
  },
  {
   "cell_type": "code",
   "execution_count": null,
   "metadata": {},
   "outputs": [],
   "source": []
  }
 ],
 "metadata": {
  "kernelspec": {
   "display_name": "Python 3",
   "language": "python",
   "name": "python3"
  },
  "language_info": {
   "codemirror_mode": {
    "name": "ipython",
    "version": 3
   },
   "file_extension": ".py",
   "mimetype": "text/x-python",
   "name": "python",
   "nbconvert_exporter": "python",
   "pygments_lexer": "ipython3",
   "version": "3.5.4"
  }
 },
 "nbformat": 4,
 "nbformat_minor": 2
}

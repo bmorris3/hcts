{
 "cells": [
  {
   "cell_type": "code",
   "execution_count": 8,
   "metadata": {
    "collapsed": false
   },
   "outputs": [],
   "source": [
    "import h5py\n",
    "import numpy as np\n",
    "\n",
    "try: \n",
    "    f.close()\n",
    "except (NameError, ValueError):\n",
    "    pass\n",
    "\n",
    "f = h5py.File('test.hdf5', 'w')\n",
    "\n",
    "n_times = 20000\n",
    "n_wavelengths = 2000\n",
    "\n",
    "spectra = f.create_dataset('spectra', dtype=np.float64, shape=(n_times, n_wavelengths), compression=\"lzf\")\n",
    "\n",
    "for i in range(n_times):\n",
    "    spectra[i, :] = np.random.randn(n_wavelengths)\n",
    "\n"
   ]
  },
  {
   "cell_type": "code",
   "execution_count": 9,
   "metadata": {
    "collapsed": false
   },
   "outputs": [],
   "source": [
    "wavelengths = np.linspace(100, 1000, n_wavelengths)\n",
    "\n",
    "spectra.attrs['wavelengths'] = wavelengths"
   ]
  },
  {
   "cell_type": "code",
   "execution_count": 10,
   "metadata": {
    "collapsed": false
   },
   "outputs": [],
   "source": [
    "#metadata = {'time0': {'subsolar': 1095, 'temp': 935}}\n",
    "\n",
    "#spectra.attrs['metadata'] = metadata"
   ]
  },
  {
   "cell_type": "code",
   "execution_count": 11,
   "metadata": {
    "collapsed": true
   },
   "outputs": [],
   "source": [
    "f.close()"
   ]
  },
  {
   "cell_type": "code",
   "execution_count": null,
   "metadata": {
    "collapsed": true
   },
   "outputs": [],
   "source": []
  }
 ],
 "metadata": {
  "kernelspec": {
   "display_name": "Python 2",
   "language": "python",
   "name": "python2"
  },
  "language_info": {
   "codemirror_mode": {
    "name": "ipython",
    "version": 2
   },
   "file_extension": ".py",
   "mimetype": "text/x-python",
   "name": "python",
   "nbconvert_exporter": "python",
   "pygments_lexer": "ipython2",
   "version": "2.7.11"
  }
 },
 "nbformat": 4,
 "nbformat_minor": 0
}

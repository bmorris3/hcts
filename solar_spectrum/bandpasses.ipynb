{
 "cells": [
  {
   "cell_type": "code",
   "execution_count": 2,
   "metadata": {
    "collapsed": false
   },
   "outputs": [],
   "source": [
    "JWST_NIRSpec = {\"G140M\": {'limits': [0.6, 1.8], 'R':1000}, \n",
    "                \"G235M\": {'limits': [1.7, 3.0], 'R':1000},\n",
    "                \"G395M\": {'limits': [2.9, 5.0], 'R':1000},\n",
    "                \"G140H\": {'limits': [0.6, 1.8], 'R':2700},\n",
    "                \"G235H\": {'limits': [1.7, 3.0], 'R':2700},\n",
    "                \"G395H\": {'limits': [2.9, 5.0], 'R':2700},\n",
    "                \"PRISM\": {'limits': [0.6, 5.0], 'R':100}}\n",
    "\n"
   ]
  },
  {
   "cell_type": "markdown",
   "metadata": {},
   "source": [
    "# Spectral solar irradiance\n",
    "\n",
    "SIM SORCE data [source](ftp://acdisc.gsfc.nasa.gov/data/s4pa/SORCE_Level3/SOR3XPSD.010/sorce_xps_L3_c24h_v10_20030210_20110502.txt)"
   ]
  },
  {
   "cell_type": "code",
   "execution_count": 8,
   "metadata": {
    "collapsed": false
   },
   "outputs": [],
   "source": [
    "%matplotlib inline\n",
    "from astropy.io import ascii\n",
    "import numpy as np\n",
    "import matplotlib.pyplot as plt\n",
    "\n",
    "# names = ['nominal_date_yyyymmdd', 'nominal_date_jdn', 'avg_measurement_date_jdn', \n",
    "#          'std_dev_measurement_date', 'diode_number', 'min_wavelength', 'max_wavelength', \n",
    "#          'median_irradiance', 'mean_irradiance', 'absolute_uncertainty', 'measurement_precision', \n",
    "#          'calculation_precision', 'degradation_model', 'degradation_version', 'number_of_points']\n",
    "\n",
    "# table = ascii.read('sorce_xps_L3_c24h_v10_20030210_20110502.txt', data_start=73, names=names)\n",
    "\n",
    "#names = ['nominal_date_yyyymmdd', 'nominal_date_jdn', 'min_wavelength', 'max_wavelength', \n",
    "#         'instrument_mode_id', 'data_version', 'irradiance', 'irradiance_uncertainty', 'quality']\n",
    "#\n",
    "#table = ascii.read('sorce_sim_L3_c24h_0240nm_2413nm_20030414_20151206.txt', data_start=73, names=names)\n",
    "\n",
    "f = open('sorce_sim_L3_c24h_0240nm_2413nm_20030414_20151206.txt').read().splitlines()\n",
    "table_raw = '\\n'.join(f[79:])\n",
    "with open('rawtable.txt', 'w') as out:\n",
    "    out.write(table_raw)"
   ]
  },
  {
   "cell_type": "code",
   "execution_count": 7,
   "metadata": {
    "collapsed": false
   },
   "outputs": [],
   "source": [
    "np.genfromtxt('rawtable.txt', format=)"
   ]
  },
  {
   "cell_type": "code",
   "execution_count": null,
   "metadata": {
    "collapsed": true
   },
   "outputs": [],
   "source": []
  },
  {
   "cell_type": "code",
   "execution_count": 1,
   "metadata": {
    "collapsed": false
   },
   "outputs": [
    {
     "ename": "NameError",
     "evalue": "name 'table' is not defined",
     "output_type": "error",
     "traceback": [
      "\u001b[1;31m---------------------------------------------------------------------------\u001b[0m",
      "\u001b[1;31mNameError\u001b[0m                                 Traceback (most recent call last)",
      "\u001b[1;32m<ipython-input-1-5896261a75cd>\u001b[0m in \u001b[0;36m<module>\u001b[1;34m()\u001b[0m\n\u001b[0;32m      2\u001b[0m     \u001b[1;32mreturn\u001b[0m \u001b[0mtable\u001b[0m\u001b[1;33m[\u001b[0m\u001b[0mtable\u001b[0m\u001b[1;33m[\u001b[0m\u001b[1;34m'nominal_date_jdn'\u001b[0m\u001b[1;33m]\u001b[0m \u001b[1;33m==\u001b[0m \u001b[0mjd\u001b[0m\u001b[1;33m]\u001b[0m\u001b[1;33m\u001b[0m\u001b[0m\n\u001b[0;32m      3\u001b[0m \u001b[1;33m\u001b[0m\u001b[0m\n\u001b[1;32m----> 4\u001b[1;33m \u001b[0mone_day\u001b[0m \u001b[1;33m=\u001b[0m \u001b[0mget_jd\u001b[0m\u001b[1;33m(\u001b[0m\u001b[1;36m2452790.000\u001b[0m\u001b[1;33m)\u001b[0m\u001b[1;33m\u001b[0m\u001b[0m\n\u001b[0m\u001b[0;32m      5\u001b[0m \u001b[1;33m\u001b[0m\u001b[0m\n\u001b[0;32m      6\u001b[0m \u001b[0mmean_wavelength\u001b[0m \u001b[1;33m=\u001b[0m \u001b[1;36m0.5\u001b[0m\u001b[1;33m*\u001b[0m\u001b[1;33m(\u001b[0m\u001b[0mone_day\u001b[0m\u001b[1;33m[\u001b[0m\u001b[1;34m'min_wavelength'\u001b[0m\u001b[1;33m]\u001b[0m \u001b[1;33m+\u001b[0m \u001b[0mone_day\u001b[0m\u001b[1;33m[\u001b[0m\u001b[1;34m'max_wavelength'\u001b[0m\u001b[1;33m]\u001b[0m\u001b[1;33m)\u001b[0m\u001b[1;33m\u001b[0m\u001b[0m\n",
      "\u001b[1;32m<ipython-input-1-5896261a75cd>\u001b[0m in \u001b[0;36mget_jd\u001b[1;34m(jd)\u001b[0m\n\u001b[0;32m      1\u001b[0m \u001b[1;32mdef\u001b[0m \u001b[0mget_jd\u001b[0m\u001b[1;33m(\u001b[0m\u001b[0mjd\u001b[0m\u001b[1;33m)\u001b[0m\u001b[1;33m:\u001b[0m\u001b[1;33m\u001b[0m\u001b[0m\n\u001b[1;32m----> 2\u001b[1;33m     \u001b[1;32mreturn\u001b[0m \u001b[0mtable\u001b[0m\u001b[1;33m[\u001b[0m\u001b[0mtable\u001b[0m\u001b[1;33m[\u001b[0m\u001b[1;34m'nominal_date_jdn'\u001b[0m\u001b[1;33m]\u001b[0m \u001b[1;33m==\u001b[0m \u001b[0mjd\u001b[0m\u001b[1;33m]\u001b[0m\u001b[1;33m\u001b[0m\u001b[0m\n\u001b[0m\u001b[0;32m      3\u001b[0m \u001b[1;33m\u001b[0m\u001b[0m\n\u001b[0;32m      4\u001b[0m \u001b[0mone_day\u001b[0m \u001b[1;33m=\u001b[0m \u001b[0mget_jd\u001b[0m\u001b[1;33m(\u001b[0m\u001b[1;36m2452790.000\u001b[0m\u001b[1;33m)\u001b[0m\u001b[1;33m\u001b[0m\u001b[0m\n\u001b[0;32m      5\u001b[0m \u001b[1;33m\u001b[0m\u001b[0m\n",
      "\u001b[1;31mNameError\u001b[0m: name 'table' is not defined"
     ]
    }
   ],
   "source": [
    "def get_jd(jd):\n",
    "    return table[table['nominal_date_jdn'] == jd]\n",
    "\n",
    "one_day = get_jd(2452790.000)\n",
    "\n",
    "mean_wavelength = 0.5*(one_day['min_wavelength'] + one_day['max_wavelength'])\n",
    "\n",
    "plt.errorbar(mean_wavelength, one_day['irradiance'], one_day['irradiance_uncertainty'], fmt='.')"
   ]
  },
  {
   "cell_type": "code",
   "execution_count": null,
   "metadata": {
    "collapsed": true
   },
   "outputs": [],
   "source": []
  }
 ],
 "metadata": {
  "kernelspec": {
   "display_name": "Python 3",
   "language": "python",
   "name": "python3"
  },
  "language_info": {
   "codemirror_mode": {
    "name": "ipython",
    "version": 3
   },
   "file_extension": ".py",
   "mimetype": "text/x-python",
   "name": "python",
   "nbconvert_exporter": "python",
   "pygments_lexer": "ipython3",
   "version": "3.5.0"
  }
 },
 "nbformat": 4,
 "nbformat_minor": 0
}

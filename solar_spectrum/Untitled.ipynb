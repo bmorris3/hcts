{
 "cells": [
  {
   "cell_type": "code",
   "execution_count": 5,
   "metadata": {
    "collapsed": false
   },
   "outputs": [],
   "source": [
    "from astroplan import Observer\n",
    "import numpy as np\n",
    "from astropy.time import Time\n",
    "import astropy.units as u\n",
    "\n",
    "times = Time('2015-06-01 11:00:00') + np.arange(0, 365)*u.day\n",
    "greenwich = Observer(latitude=0*u.deg, longitude=0*u.deg, elevation=0*u.m)\n",
    "noons = [greenwich.noon(t, which='next') for t in times]\n",
    "isos = [noon.iso for noon in noons]\n",
    "with open('iso.txt', 'w') as f:\n",
    "    f.write('\\n'.join(isos))"
   ]
  },
  {
   "cell_type": "code",
   "execution_count": null,
   "metadata": {
    "collapsed": false
   },
   "outputs": [],
   "source": [
    "from astroplan import Observer\n",
    "import numpy as np\n",
    "from astropy.time import Time\n",
    "import astropy.units as u\n",
    "\n",
    "times = Time('2015-06-01') + np.arange(0, 365)*u.day\n"
   ]
  },
  {
   "cell_type": "code",
   "execution_count": null,
   "metadata": {
    "collapsed": true
   },
   "outputs": [],
   "source": []
  }
 ],
 "metadata": {
  "kernelspec": {
   "display_name": "Python 2",
   "language": "python",
   "name": "python2"
  },
  "language_info": {
   "codemirror_mode": {
    "name": "ipython",
    "version": 2
   },
   "file_extension": ".py",
   "mimetype": "text/x-python",
   "name": "python",
   "nbconvert_exporter": "python",
   "pygments_lexer": "ipython2",
   "version": "2.7.11"
  }
 },
 "nbformat": 4,
 "nbformat_minor": 0
}
